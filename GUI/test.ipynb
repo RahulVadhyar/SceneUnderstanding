{
 "cells": [
  {
   "cell_type": "code",
   "execution_count": 1,
   "metadata": {},
   "outputs": [],
   "source": [
    "import os"
   ]
  },
  {
   "cell_type": "code",
   "execution_count": 2,
   "metadata": {},
   "outputs": [],
   "source": [
    "dir = \"C:\\\\Users\\\\Rahul Satish Vadhyar\\\\Pictures\\\\Screenshots\\\\\""
   ]
  },
  {
   "cell_type": "code",
   "execution_count": 3,
   "metadata": {},
   "outputs": [
    {
     "data": {
      "text/plain": [
       "['Screenshot (1).png',\n",
       " 'Screenshot (10).png',\n",
       " 'Screenshot (11).png',\n",
       " 'Screenshot (12).png',\n",
       " 'Screenshot (13).png',\n",
       " 'Screenshot (14).png',\n",
       " 'Screenshot (15).png',\n",
       " 'Screenshot (16).png',\n",
       " 'Screenshot (17).png',\n",
       " 'Screenshot (18).png',\n",
       " 'Screenshot (19).png',\n",
       " 'Screenshot (20).png',\n",
       " 'Screenshot (21).png',\n",
       " 'Screenshot (22).png',\n",
       " 'Screenshot (23).png',\n",
       " 'Screenshot (24).png',\n",
       " 'Screenshot (25).png',\n",
       " 'Screenshot (26).png',\n",
       " 'Screenshot (27).png',\n",
       " 'Screenshot (28).png',\n",
       " 'Screenshot (29).png',\n",
       " 'Screenshot (3).png',\n",
       " 'Screenshot (30).png',\n",
       " 'Screenshot (31).png',\n",
       " 'Screenshot (4).png',\n",
       " 'Screenshot (7).png',\n",
       " 'Screenshot (9).png',\n",
       " 'Screenshot_20221125_021530.png',\n",
       " 'Screenshot_20221125_041015.png',\n",
       " 'Screenshot_20221125_091312.png',\n",
       " 'Screenshot_20221125_091344.png',\n",
       " 'Screenshot_20221125_094055.png',\n",
       " 'Screenshot_20221125_122144.png',\n",
       " 'Screenshot_20221126_085029.png',\n",
       " 'Screenshot_20221126_085736.png',\n",
       " 'Screenshot_20221126_100910.png',\n",
       " 'Screenshot_20221126_101707.png',\n",
       " 'Screenshot_20221126_112637.png',\n",
       " 'Screenshot_20221126_115309.png',\n",
       " 'Screenshot_20230105_012459.png',\n",
       " 'Screenshot_20230326_103936.png',\n",
       " 'Screenshot_20230326_115148.png',\n",
       " 'Screenshot_20230326_115209.png',\n",
       " 'Screenshot_20230326_115232.png',\n",
       " 'Screenshot_20230326_115251.png',\n",
       " 'Screenshot_20230326_115309.png',\n",
       " 'Screenshot_20230326_115526.png',\n",
       " 'Screenshot_20230326_115715.png',\n",
       " 'Screenshot_20230326_115808.png',\n",
       " 'Screenshot_20230326_115921.png',\n",
       " 'Screenshot_20230326_115940.png',\n",
       " 'Screenshot_20230327_120348.png',\n",
       " 'Screenshot_20230327_120412.png',\n",
       " 'Screenshot_20230327_120426.png',\n",
       " 'Screenshot_20230327_120610.png',\n",
       " 'Screenshot_20230327_120856.png',\n",
       " 'Screenshot_20230327_120923.png',\n",
       " 'Screenshot_20230327_121023.png',\n",
       " 'Screenshot_20230327_121041.png',\n",
       " 'Screenshot_20230327_121313.png',\n",
       " 'Screenshot_20230327_121523.png',\n",
       " 'Screenshot_20230327_121715.png',\n",
       " 'Screenshot_20230327_121835.png',\n",
       " 'Screenshot_20230327_121941.png',\n",
       " 'Screenshot_20230327_122101.png',\n",
       " 'Screenshot_20230327_122152.png',\n",
       " 'Screenshot_20230327_122333.png',\n",
       " 'Screenshot_20230327_122340.png',\n",
       " 'Screenshot_20230327_122446.png',\n",
       " 'Screenshot_20230327_122645.png',\n",
       " 'Screenshot_20230327_122800.png',\n",
       " 'Screenshot_20230327_122943.png',\n",
       " 'Screenshot_20230327_123144.png',\n",
       " 'Screenshot_20230327_123159.png',\n",
       " 'Screenshot_20230327_123309.png',\n",
       " 'Screenshot_20230327_123441.png',\n",
       " 'Screenshot_20230327_123448.png',\n",
       " 'Screenshot_20230327_123506.png',\n",
       " 'Screenshot_20230327_123523.png',\n",
       " 'Screenshot_20230327_123548.png',\n",
       " 'Screenshot_20230327_123555.png',\n",
       " 'Screenshot_20230731_113906.png',\n",
       " 'Screenshot_20230731_113928.png']"
      ]
     },
     "execution_count": 3,
     "metadata": {},
     "output_type": "execute_result"
    }
   ],
   "source": [
    "files = os.listdir(dir)\n",
    "files = [file for file in files if file.endswith(\".png\")]\n",
    "files"
   ]
  }
 ],
 "metadata": {
  "kernelspec": {
   "display_name": "Python 3",
   "language": "python",
   "name": "python3"
  },
  "language_info": {
   "codemirror_mode": {
    "name": "ipython",
    "version": 3
   },
   "file_extension": ".py",
   "mimetype": "text/x-python",
   "name": "python",
   "nbconvert_exporter": "python",
   "pygments_lexer": "ipython3",
   "version": "3.10.9"
  },
  "orig_nbformat": 4
 },
 "nbformat": 4,
 "nbformat_minor": 2
}
