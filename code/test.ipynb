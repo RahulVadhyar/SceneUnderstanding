{
 "cells": [
  {
   "cell_type": "code",
   "execution_count": 1,
   "metadata": {},
   "outputs": [
    {
     "name": "stderr",
     "output_type": "stream",
     "text": [
      "/home/starsystem/.local/lib/python3.10/site-packages/tqdm/auto.py:21: TqdmWarning: IProgress not found. Please update jupyter and ipywidgets. See https://ipywidgets.readthedocs.io/en/stable/user_install.html\n",
      "  from .autonotebook import tqdm as notebook_tqdm\n"
     ]
    }
   ],
   "source": [
    "import torch\n",
    "import torch.nn as nn\n",
    "from torch.nn import functional as F\n",
    "from matplotlib import pyplot as plt\n",
    "import math\n",
    "import pandas as pd\n",
    "from flickr30 import CustomDataset"
   ]
  },
  {
   "cell_type": "code",
   "execution_count": 2,
   "metadata": {},
   "outputs": [
    {
     "name": "stderr",
     "output_type": "stream",
     "text": [
      "2023-08-22 00:03:56.233581: I tensorflow/core/platform/cpu_feature_guard.cc:193] This TensorFlow binary is optimized with oneAPI Deep Neural Network Library (oneDNN) to use the following CPU instructions in performance-critical operations:  AVX2 AVX_VNNI FMA\n",
      "To enable them in other operations, rebuild TensorFlow with the appropriate compiler flags.\n",
      "2023-08-22 00:03:56.307218: I tensorflow/core/util/util.cc:169] oneDNN custom operations are on. You may see slightly different numerical results due to floating-point round-off errors from different computation orders. To turn them off, set the environment variable `TF_ENABLE_ONEDNN_OPTS=0`.\n",
      "2023-08-22 00:03:56.323491: E tensorflow/stream_executor/cuda/cuda_blas.cc:2981] Unable to register cuBLAS factory: Attempting to register factory for plugin cuBLAS when one has already been registered\n",
      "2023-08-22 00:03:56.614277: W tensorflow/stream_executor/platform/default/dso_loader.cc:64] Could not load dynamic library 'libnvinfer.so.7'; dlerror: libnvinfer.so.7: cannot open shared object file: No such file or directory\n",
      "2023-08-22 00:03:56.614317: W tensorflow/stream_executor/platform/default/dso_loader.cc:64] Could not load dynamic library 'libnvinfer_plugin.so.7'; dlerror: libnvinfer_plugin.so.7: cannot open shared object file: No such file or directory\n",
      "2023-08-22 00:03:56.614320: W tensorflow/compiler/tf2tensorrt/utils/py_utils.cc:38] TF-TRT Warning: Cannot dlopen some TensorRT libraries. If you would like to use Nvidia GPU with TensorRT, please make sure the missing libraries mentioned above are installed properly.\n"
     ]
    }
   ],
   "source": [
    "ds = CustomDataset()"
   ]
  },
  {
   "cell_type": "code",
   "execution_count": 3,
   "metadata": {},
   "outputs": [
    {
     "data": {
      "text/plain": [
       "((tensor([ 30,  72, 121,  31,  47,  78,  31,  26,  69,  68,  47,  68,  26,  78,\n",
       "           25,  47, 121,  42,  76,  45,  47,  25,  45, 112,  68,  68,  78,  47,\n",
       "           45, 112,  42,  74,  47, 105,  31,  31,  62,  47, 112,  76,  47,  76,\n",
       "           45, 113,  42,  74,  47,  45, 112,  69, 125,  25,  47, 121,  45,  42,\n",
       "          105, 113,  47,  45, 112,  69,  68,  42,  69,  68,  47,  31,  26,  76,\n",
       "           47,  42,  69,  47,  76,  45, 113,  47,  78, 112,  74, 125,  47,  13,\n",
       "           59,  59,  59,  59,  59,  59,  59,  59,  59,  59,  59,  59,  59,  59,\n",
       "           59,  59,  59,  59,  59,  59,  59,  59,  59,  59,  59,  59,  59,  59,\n",
       "           59,  59,  59,  59,  59,  59,  59,  59,  59,  59,  59,  59,  59,  59,\n",
       "           59,  59,  59,  59,  59,  59,  59,  59,  59,  59,  59,  59,  59,  59,\n",
       "           59,  59,  59,  59,  59,  59,  59,  59,  59,  59,  59,  59,  59,  59,\n",
       "           59,  59,  59,  59,  59,  59,  59,  59,  59,  59,  59,  59,  59,  59,\n",
       "           59,  59,  59,  59,  59,  59,  59,  59,  59,  59,  59,  59,  59,  59,\n",
       "           59,  59,  59,  59,  59,  59,  59,  59,  59,  59,  59,  59,  59,  59,\n",
       "           59,  59,  59,  59,  59,  59,  59,  59,  59,  59,  59,  59,  59,  59,\n",
       "           59,  59,  59,  59,  59,  59,  59,  59,  59,  59,  59,  59,  59,  59,\n",
       "           59,  59,  59,  59,  59,  59,  59,  59,  59,  59,  59,  59,  59,  59,\n",
       "           59,  59,  59,  59,  59,  59,  59,  59,  59,  59,  59,  59,  59,  59,\n",
       "           59,  59,  59,  59]),\n",
       "  tensor([[[-2.0494, -2.0323, -1.9980,  ...,  0.7591,  1.7865,  1.6153],\n",
       "           [-2.0837, -1.9980, -2.0494,  ...,  1.9407,  0.3652,  1.7523],\n",
       "           [-1.9124, -2.0837, -1.9980,  ..., -1.4158, -1.9980, -0.5253],\n",
       "           ...,\n",
       "           [-1.4672, -2.1179, -2.1179,  ..., -0.1143, -0.0287, -0.6965],\n",
       "           [-1.4843,  0.3309,  0.4851,  ...,  0.0741, -0.6452,  0.1254],\n",
       "           [ 1.3413,  0.1597,  0.0056,  ...,  1.2728,  0.5707,  0.5707]],\n",
       "  \n",
       "          [[-1.8957, -1.9132, -1.8782,  ...,  1.5707,  2.3936,  2.3936],\n",
       "           [-2.0007, -1.9132, -1.9307,  ...,  2.4286,  1.5182,  2.4286],\n",
       "           [-1.7381, -1.9657, -1.9132,  ..., -0.5301, -0.8452,  0.8004],\n",
       "           ...,\n",
       "           [-1.2304, -1.9657, -2.0357,  ...,  0.9405,  1.0105,  0.3978],\n",
       "           [-0.9153,  0.9230,  0.9755,  ...,  0.8704,  0.1527,  0.8354],\n",
       "           [ 1.7983,  0.7654,  1.2731,  ...,  1.6408,  1.2556,  1.3957]],\n",
       "  \n",
       "          [[-1.6824, -1.6999, -1.6650,  ...,  2.0125,  2.5529,  2.6400],\n",
       "           [-1.7696, -1.6824, -1.7173,  ...,  2.5529,  1.7685,  2.5180],\n",
       "           [-1.5779, -1.7522, -1.6824,  ..., -1.5081, -1.7870, -1.1944],\n",
       "           ...,\n",
       "           [-1.3687, -1.6650, -1.8044,  ..., -0.4101,  0.1476, -0.9330],\n",
       "           [-1.4036, -0.5844,  0.0953,  ..., -0.2532, -1.0027, -0.3230],\n",
       "           [ 0.8274,  0.2348,  0.0256,  ...,  1.1934,  0.4439,  0.2348]]])),\n",
       " tensor([ 72, 121,  31,  47,  78,  31,  26,  69,  68,  47,  68,  26,  78,  25,\n",
       "          47, 121,  42,  76,  45,  47,  25,  45, 112,  68,  68,  78,  47,  45,\n",
       "         112,  42,  74,  47, 105,  31,  31,  62,  47, 112,  76,  47,  76,  45,\n",
       "         113,  42,  74,  47,  45, 112,  69, 125,  25,  47, 121,  45,  42, 105,\n",
       "         113,  47,  45, 112,  69,  68,  42,  69,  68,  47,  31,  26,  76,  47,\n",
       "          42,  69,  47,  76,  45, 113,  47,  78, 112,  74, 125,  47,  13, 123,\n",
       "          59,  59,  59,  59,  59,  59,  59,  59,  59,  59,  59,  59,  59,  59,\n",
       "          59,  59,  59,  59,  59,  59,  59,  59,  59,  59,  59,  59,  59,  59,\n",
       "          59,  59,  59,  59,  59,  59,  59,  59,  59,  59,  59,  59,  59,  59,\n",
       "          59,  59,  59,  59,  59,  59,  59,  59,  59,  59,  59,  59,  59,  59,\n",
       "          59,  59,  59,  59,  59,  59,  59,  59,  59,  59,  59,  59,  59,  59,\n",
       "          59,  59,  59,  59,  59,  59,  59,  59,  59,  59,  59,  59,  59,  59,\n",
       "          59,  59,  59,  59,  59,  59,  59,  59,  59,  59,  59,  59,  59,  59,\n",
       "          59,  59,  59,  59,  59,  59,  59,  59,  59,  59,  59,  59,  59,  59,\n",
       "          59,  59,  59,  59,  59,  59,  59,  59,  59,  59,  59,  59,  59,  59,\n",
       "          59,  59,  59,  59,  59,  59,  59,  59,  59,  59,  59,  59,  59,  59,\n",
       "          59,  59,  59,  59,  59,  59,  59,  59,  59,  59,  59,  59,  59,  59,\n",
       "          59,  59,  59,  59,  59,  59,  59,  59,  59,  59,  59,  59,  59,  59,\n",
       "          59,  59,  59,  59]))"
      ]
     },
     "execution_count": 3,
     "metadata": {},
     "output_type": "execute_result"
    }
   ],
   "source": [
    "ds[0]"
   ]
  },
  {
   "cell_type": "code",
   "execution_count": 4,
   "metadata": {},
   "outputs": [
    {
     "ename": "NameError",
     "evalue": "name 'df' is not defined",
     "output_type": "error",
     "traceback": [
      "\u001b[0;31m---------------------------------------------------------------------------\u001b[0m",
      "\u001b[0;31mNameError\u001b[0m                                 Traceback (most recent call last)",
      "Cell \u001b[0;32mIn[4], line 1\u001b[0m\n\u001b[0;32m----> 1\u001b[0m df[\u001b[39m'\u001b[39m\u001b[39m comment\u001b[39m\u001b[39m'\u001b[39m][\u001b[39m103\u001b[39m]\n",
      "\u001b[0;31mNameError\u001b[0m: name 'df' is not defined"
     ]
    }
   ],
   "source": [
    "df[' comment'][103]"
   ]
  },
  {
   "cell_type": "code",
   "execution_count": null,
   "metadata": {},
   "outputs": [],
   "source": []
  }
 ],
 "metadata": {
  "kernelspec": {
   "display_name": "Python 3",
   "language": "python",
   "name": "python3"
  },
  "language_info": {
   "codemirror_mode": {
    "name": "ipython",
    "version": 3
   },
   "file_extension": ".py",
   "mimetype": "text/x-python",
   "name": "python",
   "nbconvert_exporter": "python",
   "pygments_lexer": "ipython3",
   "version": "3.10.12"
  },
  "orig_nbformat": 4
 },
 "nbformat": 4,
 "nbformat_minor": 2
}
