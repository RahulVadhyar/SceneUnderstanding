{
 "cells": [
  {
   "cell_type": "markdown",
   "metadata": {},
   "source": []
  },
  {
   "cell_type": "code",
   "execution_count": 1,
   "metadata": {},
   "outputs": [],
   "source": [
    "texts = [chr(i) for i in range(125)] + [\"[UNK]\"] + [\"[START]\"] + [\"[END]\"]"
   ]
  },
  {
   "cell_type": "code",
   "execution_count": 2,
   "metadata": {},
   "outputs": [
    {
     "name": "stdout",
     "output_type": "stream",
     "text": [
      "[30, 72, 45, 42, 25, 47, 42, 25, 47, 68, 74, 113, 112, 76, 123]\n",
      "59\n",
      "[START]This is great[END]\n"
     ]
    }
   ],
   "source": [
    "import tokenizer\n",
    "tokenizer = tokenizer.Tokenizer()\n",
    "tokenizer.train(texts)\n",
    "encoded = tokenizer.encode(\"This is great\")\n",
    "print(encoded)\n",
    "print(tokenizer.encode('[UNK]'))\n",
    "\n",
    "decoded = tokenizer.decode(encoded)\n",
    "print(decoded)"
   ]
  },
  {
   "cell_type": "code",
   "execution_count": 3,
   "metadata": {},
   "outputs": [],
   "source": [
    "tokenizer.save(\"tokenizer2.pkl\")"
   ]
  },
  {
   "cell_type": "code",
   "execution_count": 4,
   "metadata": {},
   "outputs": [
    {
     "data": {
      "text/plain": [
       "128"
      ]
     },
     "execution_count": 4,
     "metadata": {},
     "output_type": "execute_result"
    }
   ],
   "source": [
    "tokenizer.get_vocab_size()"
   ]
  },
  {
   "cell_type": "code",
   "execution_count": 5,
   "metadata": {},
   "outputs": [
    {
     "data": {
      "text/plain": [
       "{0: 'D',\n",
       " 1: '5',\n",
       " 2: 'K',\n",
       " 3: ';',\n",
       " 4: 'p',\n",
       " 5: '`',\n",
       " 6: '@',\n",
       " 7: '&',\n",
       " 8: '\\x00',\n",
       " 9: ',',\n",
       " 10: '\\x1b',\n",
       " 11: 'E',\n",
       " 12: '|',\n",
       " 13: '.',\n",
       " 14: '*',\n",
       " 15: '6',\n",
       " 16: '8',\n",
       " 17: 'S',\n",
       " 18: '\\x16',\n",
       " 19: 'P',\n",
       " 20: '7',\n",
       " 21: ':',\n",
       " 22: 'W',\n",
       " 23: '\\r',\n",
       " 24: '-',\n",
       " 25: 's',\n",
       " 26: 'u',\n",
       " 27: '\\x12',\n",
       " 28: '[',\n",
       " 29: 'U',\n",
       " 30: '[START]',\n",
       " 31: 'o',\n",
       " 32: '/',\n",
       " 33: '\\x07',\n",
       " 34: 'L',\n",
       " 35: '\\x11',\n",
       " 36: '\\n',\n",
       " 37: 'j',\n",
       " 38: '\\x1e',\n",
       " 39: '\\x19',\n",
       " 40: '^',\n",
       " 41: 'H',\n",
       " 42: 'i',\n",
       " 43: '2',\n",
       " 44: 'R',\n",
       " 45: 'h',\n",
       " 46: '$',\n",
       " 47: ' ',\n",
       " 48: '\"',\n",
       " 49: 'z',\n",
       " 50: '\\x06',\n",
       " 51: 'O',\n",
       " 52: '1',\n",
       " 53: 'm',\n",
       " 54: '\\x18',\n",
       " 55: '\\x01',\n",
       " 56: ']',\n",
       " 57: 'A',\n",
       " 58: '\\x0c',\n",
       " 59: '[UNK]',\n",
       " 60: '\\x1d',\n",
       " 61: '\\x1c',\n",
       " 62: 'k',\n",
       " 63: 'Y',\n",
       " 64: '\\\\',\n",
       " 65: 'b',\n",
       " 66: 'Q',\n",
       " 67: '\\x04',\n",
       " 68: 'g',\n",
       " 69: 'n',\n",
       " 70: 'I',\n",
       " 71: '\\x15',\n",
       " 72: 'T',\n",
       " 73: \"'\",\n",
       " 74: 'r',\n",
       " 75: '\\t',\n",
       " 76: 't',\n",
       " 77: 'f',\n",
       " 78: 'y',\n",
       " 79: '\\x1f',\n",
       " 80: '3',\n",
       " 81: '4',\n",
       " 82: '\\x10',\n",
       " 83: '0',\n",
       " 84: 'C',\n",
       " 85: 'N',\n",
       " 86: 'q',\n",
       " 87: '>',\n",
       " 88: '\\x02',\n",
       " 89: 'J',\n",
       " 90: '+',\n",
       " 91: 'v',\n",
       " 92: '\\x08',\n",
       " 93: '9',\n",
       " 94: '\\x0e',\n",
       " 95: '<',\n",
       " 96: '%',\n",
       " 97: '\\x0b',\n",
       " 98: 'B',\n",
       " 99: '\\x14',\n",
       " 100: 'M',\n",
       " 101: '_',\n",
       " 102: 'G',\n",
       " 103: 'Z',\n",
       " 104: '=',\n",
       " 105: 'l',\n",
       " 106: '!',\n",
       " 107: 'c',\n",
       " 108: '\\x1a',\n",
       " 109: 'F',\n",
       " 110: 'X',\n",
       " 111: ')',\n",
       " 112: 'a',\n",
       " 113: 'e',\n",
       " 114: '\\x0f',\n",
       " 115: '\\x13',\n",
       " 116: '\\x03',\n",
       " 117: '#',\n",
       " 118: '\\x05',\n",
       " 119: '\\x17',\n",
       " 120: 'V',\n",
       " 121: 'w',\n",
       " 122: 'x',\n",
       " 123: '[END]',\n",
       " 124: '?',\n",
       " 125: 'd',\n",
       " 126: '{',\n",
       " 127: '('}"
      ]
     },
     "execution_count": 5,
     "metadata": {},
     "output_type": "execute_result"
    }
   ],
   "source": [
    "tokenizer.idx_to_char"
   ]
  }
 ],
 "metadata": {
  "kernelspec": {
   "display_name": "Python 3",
   "language": "python",
   "name": "python3"
  },
  "language_info": {
   "codemirror_mode": {
    "name": "ipython",
    "version": 3
   },
   "file_extension": ".py",
   "mimetype": "text/x-python",
   "name": "python",
   "nbconvert_exporter": "python",
   "pygments_lexer": "ipython3",
   "version": "3.10.12"
  },
  "orig_nbformat": 4
 },
 "nbformat": 4,
 "nbformat_minor": 2
}
